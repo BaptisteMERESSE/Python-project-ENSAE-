{
 "cells": [
  {
   "cell_type": "code",
   "execution_count": null,
   "metadata": {},
   "outputs": [],
   "source": [
    "index_1 = data.index[data[\"Rareté\"] == \"Rare\"].to_list()\n",
    "index_2 = data.index[~np.isnan(data[\"Tournament_last_month\"])].to_list()\n",
    "index_3 = data.index[~pd.isna(data[\"Price trend\"])].to_list()\n",
    "\n",
    "index = complement_list(index_1, index_3)"
   ]
  },
  {
   "cell_type": "code",
   "execution_count": null,
   "metadata": {},
   "outputs": [
    {
     "data": {
      "text/plain": [
       "0"
      ]
     },
     "metadata": {},
     "output_type": "display_data"
    }
   ],
   "source": [
    "index_1 = data.index[data[\"Rareté\"] == \"Rare\"].to_list()\n",
    "index_2 = data.index[~np.isnan(data[\"Tournament_last_month\"])].to_list()\n",
    "index_3 = data.index[~pd.isna(data[\"Price trend\"])].to_list()\n",
    "\n",
    "index = complement_list(index_1, index_3)\n",
    "jupyter nbconvert --to pdf ancien.ipynb"
   ]
  }
 ],
 "metadata": {
  "kernelspec": {
   "display_name": "Python 3",
   "language": "python",
   "name": "python3"
  },
  "language_info": {
   "name": "python",
   "version": "3.10.11"
  }
 },
 "nbformat": 4,
 "nbformat_minor": 2
}
