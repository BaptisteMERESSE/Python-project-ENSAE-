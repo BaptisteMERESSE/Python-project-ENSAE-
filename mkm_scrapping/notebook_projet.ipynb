{
 "cells": [
  {
   "cell_type": "markdown",
   "metadata": {},
   "source": [
    "# Préambule\n",
    "\n",
    "## Quelques principes dans la collecte de données\n",
    "\n",
    "La façon dont on récupère les données (scrapping) implique du bon sens dans la démarche afin d'éviter de surcharger les sites inutilement, ou de se faire considérer comme un robot, ce qui empècherait de collecter des données. Pour cela, on essaye au maximum de ne pas scrapper plusieurs fois des mêmes pages. Ainsi, on étudie à l'avance les variables d'intérêt et on teste à petite échelle si le code fonctionne avant de lancer le scrapping sur un nom de page plus grand.\n",
    "De plus, on limite le nombre de requête temporel: on lance ainsi une requête tous les au plus 3 secondes. En pratique ce nombre est aléatoire entre 3 et 6 secondes ici pour éviter d'être détecter comme un automate.\n",
    "\n",
    "## Philosophie du stockage des données\n",
    "\n",
    "Le point précédent suppose que l'on stocke avec attention les données. On distingue pour cela deux fichiers: original_data.csv et working_data.csv. \n",
    "Le premier, original_data.csv, sert à stocker toutes les variables récupérées par scrapping, et ne sert qu'à cela. Il doit donc être sauvegardé fréquemment pour éviter une mauvaise manipulation qui aménerait à perdre les données.\n",
    "Le second, working_data.csv, est le fichier de travail. Il s'agit initialement d'une copie de l'original, que l'on peut modifier pour obtenir de nouvelles variables d'intérêt, des données plus claires, etc. \n",
    "\n",
    "En théorie et idéalement, l'hérédité serait claire: working_data.csv serait \"fils\" de original_data.csv. En pratique, on peut avoir besoin de certains éléments de working_data.csv pour scrapper de nouveaux sites et rajouter des données à original_data.csv.\n",
    "\n",
    "L'idée est également d'avoir une structure de données dynamique: on veut pouvoir ajouter des données à notre base, les traiter, puis en rajouter de nouvelles si besoin. Cela suppose que le code permette de rajouter simplement des données, et de faire des opérations (en particulier de scrapping) uniquement sur ces nouvelles données (souvent identifiables par des champs \"NaN\" dans certaines colonnes)."
   ]
  },
  {
   "cell_type": "markdown",
   "metadata": {},
   "source": [
    "# Avant tout, quelques imports"
   ]
  },
  {
   "cell_type": "markdown",
   "metadata": {},
   "source": [
    "On importe les packages de bibliothèques externe dont on a besoin"
   ]
  },
  {
   "cell_type": "code",
   "execution_count": 1,
   "metadata": {},
   "outputs": [],
   "source": [
    "import time\n",
    "import pandas as pd\n",
    "import numpy as np\n",
    "import random\n",
    "\n",
    "from selenium import webdriver\n",
    "from selenium.webdriver.common.keys import Keys\n",
    "from selenium.webdriver.chrome.service import Service\n",
    "from selenium.webdriver.common.by import By\n",
    "from webdriver_manager.chrome import ChromeDriverManager"
   ]
  },
  {
   "cell_type": "markdown",
   "metadata": {},
   "source": [
    "On importe les fonction de auxiliary.py dont on a besoin. Ce sont des fonctions \"génériques\" qui permettent par exemple de faire certaines opérations sur des dataframes."
   ]
  },
  {
   "cell_type": "code",
   "execution_count": 2,
   "metadata": {},
   "outputs": [],
   "source": [
    "from auxiliary_functions import remove_zero_start\n",
    "from auxiliary_functions import intersect_list\n",
    "from auxiliary_functions import complement_list\n",
    "from auxiliary_functions import split_list"
   ]
  },
  {
   "cell_type": "markdown",
   "metadata": {},
   "source": [
    "On importe les fonctions de scrapping dont on a besoin. Celle ci sont stockées dans un fichier Python à part pour éviter de surcharger ce Notebook."
   ]
  },
  {
   "cell_type": "code",
   "execution_count": 3,
   "metadata": {},
   "outputs": [],
   "source": [
    "from scrapping_function import add_expansion\n",
    "from scrapping_function import add_tournament_use\n",
    "from scrapping_function import add_price_trends"
   ]
  },
  {
   "cell_type": "markdown",
   "metadata": {},
   "source": [
    "# Première étape de Scrapping: récupération de données de bases\n",
    "\n",
    "On récupère des données de base sur les cartes de chaque extensions parmis une liste d'extension que l'on choisit.\n",
    "On utilise pour cela le site de \"magic card market\", dans la section \"Pokémon\".\n",
    "On récupère pour chaque carte d'une extension donnée:\n",
    "- Le nom\n",
    "- Le nom d'extension\n",
    "- La date de sortie d'extension\n",
    "- Le prix minimum auquel on peut trouver la carte\n",
    "- Le nombre d'exemplaire en vente actuellement\n",
    "- La rareté\n",
    "- L'URL vers la page spécifique à la carte sur MKM, ou plus d'informations sont disponibles\n",
    "\n",
    "Ces données, insuffisantes pour l'analyse, sont néanmoins le point de départ de recherches plus détaillées: les données de nom de carte (comportant un code d'identification) et de nom d'extension permettent d'aller chercher des informations plus précises facilement."
   ]
  },
  {
   "cell_type": "code",
   "execution_count": 4,
   "metadata": {},
   "outputs": [],
   "source": [
    "expansion_list =  [\"Lost-Origin\", \"Stellar-Crown\", \"Surging-Sparks\", \"Shrouded-Fable\", \"Twilight-Masquerade\", \"Temporal-Forces\", \"Paldean-Fates\", \"Paradox-Rift\", \"151\", \"Obsidian-Flames\", \"Paldea-Evolved\", \"Scarlet-Violet\", \"Crown-Zenith\"]"
   ]
  },
  {
   "cell_type": "code",
   "execution_count": 5,
   "metadata": {},
   "outputs": [],
   "source": [
    "expansion_to_add = []\n",
    "for expansion in expansion_to_add:\n",
    "    add_expansion(expansion)"
   ]
  },
  {
   "cell_type": "code",
   "execution_count": 6,
   "metadata": {},
   "outputs": [
    {
     "data": {
      "text/html": [
       "<div>\n",
       "<style scoped>\n",
       "    .dataframe tbody tr th:only-of-type {\n",
       "        vertical-align: middle;\n",
       "    }\n",
       "\n",
       "    .dataframe tbody tr th {\n",
       "        vertical-align: top;\n",
       "    }\n",
       "\n",
       "    .dataframe thead th {\n",
       "        text-align: right;\n",
       "    }\n",
       "</style>\n",
       "<table border=\"1\" class=\"dataframe\">\n",
       "  <thead>\n",
       "    <tr style=\"text-align: right;\">\n",
       "      <th></th>\n",
       "      <th>Index</th>\n",
       "      <th>Name</th>\n",
       "      <th>Expansion</th>\n",
       "      <th>Min price</th>\n",
       "      <th>Exemplaires en vente</th>\n",
       "      <th>Rareté</th>\n",
       "      <th>mkm_url</th>\n",
       "      <th>expansion_release_date</th>\n",
       "      <th>Tournament_last_month</th>\n",
       "      <th>Price trend</th>\n",
       "      <th>Price 7 days</th>\n",
       "      <th>Price 30 days</th>\n",
       "    </tr>\n",
       "  </thead>\n",
       "  <tbody>\n",
       "    <tr>\n",
       "      <th>0</th>\n",
       "      <td>0</td>\n",
       "      <td>Live Code Card (Booster) (LOR)</td>\n",
       "      <td>Lost-Origin</td>\n",
       "      <td>0,02 €</td>\n",
       "      <td>14753</td>\n",
       "      <td>Online Code Card</td>\n",
       "      <td>https://www.cardmarket.com/en/Pokemon/Products...</td>\n",
       "      <td>9TH SEPTEMBER, 2022</td>\n",
       "      <td>NaN</td>\n",
       "      <td>NaN</td>\n",
       "      <td>NaN</td>\n",
       "      <td>NaN</td>\n",
       "    </tr>\n",
       "    <tr>\n",
       "      <th>1</th>\n",
       "      <td>1</td>\n",
       "      <td>Thorton (LOR 167)</td>\n",
       "      <td>Lost-Origin</td>\n",
       "      <td>0,02 €</td>\n",
       "      <td>8496</td>\n",
       "      <td>Uncommon</td>\n",
       "      <td>https://www.cardmarket.com/en/Pokemon/Products...</td>\n",
       "      <td>9TH SEPTEMBER, 2022</td>\n",
       "      <td>NaN</td>\n",
       "      <td>NaN</td>\n",
       "      <td>NaN</td>\n",
       "      <td>NaN</td>\n",
       "    </tr>\n",
       "    <tr>\n",
       "      <th>2</th>\n",
       "      <td>2</td>\n",
       "      <td>Rotom V (LOR 058)</td>\n",
       "      <td>Lost-Origin</td>\n",
       "      <td>0,70 €</td>\n",
       "      <td>239</td>\n",
       "      <td>Ultra Rare</td>\n",
       "      <td>https://www.cardmarket.com/en/Pokemon/Products...</td>\n",
       "      <td>9TH SEPTEMBER, 2022</td>\n",
       "      <td>193.0</td>\n",
       "      <td>3,69 €</td>\n",
       "      <td>3,56 €</td>\n",
       "      <td>3,23 €</td>\n",
       "    </tr>\n",
       "    <tr>\n",
       "      <th>3</th>\n",
       "      <td>3</td>\n",
       "      <td>Colress's Experiment (LOR 155)</td>\n",
       "      <td>Lost-Origin</td>\n",
       "      <td>0,02 €</td>\n",
       "      <td>6339</td>\n",
       "      <td>Uncommon</td>\n",
       "      <td>https://www.cardmarket.com/en/Pokemon/Products...</td>\n",
       "      <td>9TH SEPTEMBER, 2022</td>\n",
       "      <td>NaN</td>\n",
       "      <td>NaN</td>\n",
       "      <td>NaN</td>\n",
       "      <td>NaN</td>\n",
       "    </tr>\n",
       "    <tr>\n",
       "      <th>4</th>\n",
       "      <td>4</td>\n",
       "      <td>Lost Vacuum (LOR 162)</td>\n",
       "      <td>Lost-Origin</td>\n",
       "      <td>0,02 €</td>\n",
       "      <td>12538</td>\n",
       "      <td>Uncommon</td>\n",
       "      <td>https://www.cardmarket.com/en/Pokemon/Products...</td>\n",
       "      <td>9TH SEPTEMBER, 2022</td>\n",
       "      <td>NaN</td>\n",
       "      <td>NaN</td>\n",
       "      <td>NaN</td>\n",
       "      <td>NaN</td>\n",
       "    </tr>\n",
       "  </tbody>\n",
       "</table>\n",
       "</div>"
      ],
      "text/plain": [
       "   Index                            Name    Expansion Min price  \\\n",
       "0      0  Live Code Card (Booster) (LOR)  Lost-Origin    0,02 €   \n",
       "1      1               Thorton (LOR 167)  Lost-Origin    0,02 €   \n",
       "2      2               Rotom V (LOR 058)  Lost-Origin    0,70 €   \n",
       "3      3  Colress's Experiment (LOR 155)  Lost-Origin    0,02 €   \n",
       "4      4           Lost Vacuum (LOR 162)  Lost-Origin    0,02 €   \n",
       "\n",
       "   Exemplaires en vente            Rareté  \\\n",
       "0                 14753  Online Code Card   \n",
       "1                  8496          Uncommon   \n",
       "2                   239        Ultra Rare   \n",
       "3                  6339          Uncommon   \n",
       "4                 12538          Uncommon   \n",
       "\n",
       "                                             mkm_url expansion_release_date  \\\n",
       "0  https://www.cardmarket.com/en/Pokemon/Products...    9TH SEPTEMBER, 2022   \n",
       "1  https://www.cardmarket.com/en/Pokemon/Products...    9TH SEPTEMBER, 2022   \n",
       "2  https://www.cardmarket.com/en/Pokemon/Products...    9TH SEPTEMBER, 2022   \n",
       "3  https://www.cardmarket.com/en/Pokemon/Products...    9TH SEPTEMBER, 2022   \n",
       "4  https://www.cardmarket.com/en/Pokemon/Products...    9TH SEPTEMBER, 2022   \n",
       "\n",
       "   Tournament_last_month Price trend Price 7 days Price 30 days  \n",
       "0                    NaN         NaN          NaN           NaN  \n",
       "1                    NaN         NaN          NaN           NaN  \n",
       "2                  193.0      3,69 €       3,56 €        3,23 €  \n",
       "3                    NaN         NaN          NaN           NaN  \n",
       "4                    NaN         NaN          NaN           NaN  "
      ]
     },
     "execution_count": 6,
     "metadata": {},
     "output_type": "execute_result"
    }
   ],
   "source": [
    "data = pd.read_csv(\"original_data.csv\")\n",
    "data.head(5)"
   ]
  },
  {
   "cell_type": "markdown",
   "metadata": {},
   "source": [
    "# Première sélection des données: barrière de prix\n",
    "\n",
    "Le prix minimum des cartes est un bon indicateur nous permettant de faire un premier tri dans nos données. En effet, si notre variable d'intérêt est le prix de vente, il est inutile d'inclure toutes les cartes dont le prix est de 2 centimes, qui est le prix minimum de vente sur MKM: toutes ces cartes sont disponibles en abondance et n'ont pas de \"rareté\".\n",
    "On enlève également certaines types de cartes: les cartes \"Oversized\" et \"Online Code Card\" qui ne sont pas jouables et ne seront pas étudiées dans notre cas.\n",
    "On enlève enfin les cartes ayant des valeurs non acquise pour le prix (qui n'existent en réalité pas)."
   ]
  },
  {
   "cell_type": "code",
   "execution_count": 7,
   "metadata": {},
   "outputs": [],
   "source": [
    "original_data = pd.read_csv(\"original_data.csv\")\n",
    "original_data.to_csv(\"working_data.csv\", index = False)\n",
    "\n",
    "data = pd.read_csv(\"working_data.csv\")\n",
    "data = data[(data[\"Rareté\"] != \"Online Code Card\") & (data[\"Rareté\"] != \"Oversized\")]\n",
    "data = data.dropna(subset=[\"Min price\"])\n",
    "\n",
    "data[\"Min price\"] = (data['Min price'].str[:-5] + data['Min price'].str[-4:-2]).astype(int)/100\n",
    "data = data[(data[\"Min price\"] >= 0.5)]"
   ]
  },
  {
   "cell_type": "markdown",
   "metadata": {},
   "source": [
    "# Seconde étape de scrapping: récupération du nombre d'utilisation en tournoi\n",
    "\n",
    "On récupère sur un autre site (limitlesstcg) le nombre d'utilisation de chaque carte en tournoi dans le dernier mois. \n",
    "Cette donnée est un facteur intéressant car les résultats en tournoi d'une carte peuvent inciter les gens à l'acheter, et donc faire varier le prix ou la disponibilité.\n",
    "\n",
    "A partir de cette étape, on rajoute des données à notre tableau, mais pas nécessairement sur toutes les lignes. En effet, le jeu de donné étant volumineux, on ne peut scrapper individuellement les pages de chaque carte, et on choisit juste des catégories de cartes sur lesquels on veut plus d'information. En particulier, un moyen de sélectionner un ensemble de carte est la rareté.\n",
    "\n",
    "On a également besoin de rajouter des colonnes dans notre tableau working_data pour scrapper plus facilement."
   ]
  },
  {
   "cell_type": "code",
   "execution_count": 8,
   "metadata": {},
   "outputs": [],
   "source": [
    "data[[\"Name\", \"Code\"]] = data[\"Name\"].str.split(\" \\(\", expand = True)\n",
    "data [\"Code\"] = data[\"Code\"].str.rstrip(\")\")\n",
    "data[[\"Expansion_code\", \"Number_code\"]] = data[\"Code\"].str.split(\" \", expand = True)\n",
    "data[\"Number_code\"] = data[\"Number_code\"].apply(remove_zero_start)\n",
    "data.to_csv(\"working_data.csv\", index = False)"
   ]
  },
  {
   "cell_type": "markdown",
   "metadata": {},
   "source": [
    "On récupère toutes les lignes qui ont une rareté donnée et pour lesquelles on a pas encore récupéré la donnée du nombre de tournois joués le mois passé."
   ]
  },
  {
   "cell_type": "code",
   "execution_count": 9,
   "metadata": {},
   "outputs": [],
   "source": [
    "rarity = \"Ultra Rare\"\n",
    "indexes = data.index[(data[\"Rareté\"] == rarity) & pd.isna(data[\"Tournament_last_month\"])].to_list()\n",
    "indexes_list = split_list(indexes, step=15)"
   ]
  },
  {
   "cell_type": "code",
   "execution_count": 10,
   "metadata": {},
   "outputs": [],
   "source": [
    "for indexes in indexes_list:\n",
    "    add_tournament_use(indexes)"
   ]
  },
  {
   "cell_type": "markdown",
   "metadata": {},
   "source": [
    "# Troisième étape de scrapping: on récupère des données plus précises sur les prix\n",
    "\n",
    "En réalité, le prix minimum des cartes n'est pas un très bon indicateur du prix: cela peut traduire des cartes en mauvais états, ou des destinations mals desservies, résultant en des frais de port plus élevés.\n",
    "Un meilleurs indicateur est présent sur la page de la carte: il s'agit du \"Price Trend\" qui est le prix moyen auquel s'échange la carte. En plus de cette variable, on récupère aussi le prix moyen sur les 7 et 30 derniers jours."
   ]
  },
  {
   "cell_type": "code",
   "execution_count": 11,
   "metadata": {},
   "outputs": [],
   "source": [
    "rarity = \"Ultra Rare\"\n",
    "indexes = data.index[(data[\"Rareté\"] == rarity) & pd.isna(data[\"Price trend\"])].to_list()\n",
    "indexes_list = split_list(indexes, step=15)"
   ]
  },
  {
   "cell_type": "code",
   "execution_count": 12,
   "metadata": {},
   "outputs": [],
   "source": [
    "for indexes in indexes_list:\n",
    "    add_price_trends(indexes)"
   ]
  },
  {
   "cell_type": "markdown",
   "metadata": {},
   "source": [
    "# Etat des lieu des données et mise en forme"
   ]
  },
  {
   "cell_type": "code",
   "execution_count": null,
   "metadata": {},
   "outputs": [],
   "source": [
    "original_data = pd.read_csv(\"original_data.csv\")\n",
    "original_data.to_csv(\"working_data.csv\", index = False)\n",
    "\n",
    "data = pd.read_csv(\"working_data.csv\")\n",
    "\n",
    "data = data[(data[\"Rareté\"] != \"Online Code Card\") & (data[\"Rareté\"] != \"Oversized\")]\n",
    "data = data.dropna(subset=[\"Min price\"])\n",
    "data[\"Min price\"] = (data['Min price'].str[:-5] + data['Min price'].str[-4:-2]).astype(int)/100\n",
    "data = data[(data[\"Min price\"] >= 0.5)]\n",
    "\n",
    "data[[\"Name\", \"Code\"]] = data[\"Name\"].str.split(\" \\(\", expand = True)\n",
    "\n",
    "sub_data = data[data[\"Rareté\"].isin([\"Ultra Rare\", \"Secret Rare\"])]\n",
    "order = [\"Index\", \"Name\", \"Expansion\", \"Min price\", \"Price trend\", \"Price 7 days\", \"Price 30 days\", \"Tournament_last_month\"]\n",
    "sub_data = sub_data[order]"
   ]
  },
  {
   "cell_type": "code",
   "execution_count": 26,
   "metadata": {},
   "outputs": [
    {
     "data": {
      "text/plain": [
       "230"
      ]
     },
     "execution_count": 26,
     "metadata": {},
     "output_type": "execute_result"
    }
   ],
   "source": [
    "len(sub_data)"
   ]
  },
  {
   "cell_type": "code",
   "execution_count": 25,
   "metadata": {},
   "outputs": [
    {
     "data": {
      "text/html": [
       "<div>\n",
       "<style scoped>\n",
       "    .dataframe tbody tr th:only-of-type {\n",
       "        vertical-align: middle;\n",
       "    }\n",
       "\n",
       "    .dataframe tbody tr th {\n",
       "        vertical-align: top;\n",
       "    }\n",
       "\n",
       "    .dataframe thead th {\n",
       "        text-align: right;\n",
       "    }\n",
       "</style>\n",
       "<table border=\"1\" class=\"dataframe\">\n",
       "  <thead>\n",
       "    <tr style=\"text-align: right;\">\n",
       "      <th></th>\n",
       "      <th>Index</th>\n",
       "      <th>Name</th>\n",
       "      <th>Expansion</th>\n",
       "      <th>Min price</th>\n",
       "      <th>Price trend</th>\n",
       "      <th>Price 7 days</th>\n",
       "      <th>Price 30 days</th>\n",
       "      <th>Tournament_last_month</th>\n",
       "    </tr>\n",
       "  </thead>\n",
       "  <tbody>\n",
       "    <tr>\n",
       "      <th>2</th>\n",
       "      <td>2</td>\n",
       "      <td>Rotom V</td>\n",
       "      <td>Lost-Origin</td>\n",
       "      <td>0.7</td>\n",
       "      <td>3,69 €</td>\n",
       "      <td>3,56 €</td>\n",
       "      <td>3,23 €</td>\n",
       "      <td>193.0</td>\n",
       "    </tr>\n",
       "    <tr>\n",
       "      <th>16</th>\n",
       "      <td>16</td>\n",
       "      <td>Giratina VSTAR</td>\n",
       "      <td>Lost-Origin</td>\n",
       "      <td>2.0</td>\n",
       "      <td>3,20 €</td>\n",
       "      <td>3,33 €</td>\n",
       "      <td>3,29 €</td>\n",
       "      <td>131.0</td>\n",
       "    </tr>\n",
       "    <tr>\n",
       "      <th>80</th>\n",
       "      <td>80</td>\n",
       "      <td>Colress's Experiment</td>\n",
       "      <td>Lost-Origin</td>\n",
       "      <td>2.0</td>\n",
       "      <td>3,57 €</td>\n",
       "      <td>2,63 €</td>\n",
       "      <td>3,31 €</td>\n",
       "      <td>70.0</td>\n",
       "    </tr>\n",
       "    <tr>\n",
       "      <th>101</th>\n",
       "      <td>101</td>\n",
       "      <td>Thorton</td>\n",
       "      <td>Lost-Origin</td>\n",
       "      <td>3.0</td>\n",
       "      <td>4,56 €</td>\n",
       "      <td>4,80 €</td>\n",
       "      <td>4,60 €</td>\n",
       "      <td>223.0</td>\n",
       "    </tr>\n",
       "    <tr>\n",
       "      <th>114</th>\n",
       "      <td>114</td>\n",
       "      <td>Giratina V</td>\n",
       "      <td>Lost-Origin</td>\n",
       "      <td>4.9</td>\n",
       "      <td>6,71 €</td>\n",
       "      <td>7,84 €</td>\n",
       "      <td>8,05 €</td>\n",
       "      <td>0.0</td>\n",
       "    </tr>\n",
       "  </tbody>\n",
       "</table>\n",
       "</div>"
      ],
      "text/plain": [
       "     Index                  Name    Expansion  Min price Price trend  \\\n",
       "2        2               Rotom V  Lost-Origin        0.7      3,69 €   \n",
       "16      16        Giratina VSTAR  Lost-Origin        2.0      3,20 €   \n",
       "80      80  Colress's Experiment  Lost-Origin        2.0      3,57 €   \n",
       "101    101               Thorton  Lost-Origin        3.0      4,56 €   \n",
       "114    114            Giratina V  Lost-Origin        4.9      6,71 €   \n",
       "\n",
       "    Price 7 days Price 30 days  Tournament_last_month  \n",
       "2         3,56 €        3,23 €                  193.0  \n",
       "16        3,33 €        3,29 €                  131.0  \n",
       "80        2,63 €        3,31 €                   70.0  \n",
       "101       4,80 €        4,60 €                  223.0  \n",
       "114       7,84 €        8,05 €                    0.0  "
      ]
     },
     "execution_count": 25,
     "metadata": {},
     "output_type": "execute_result"
    }
   ],
   "source": [
    "sub_data.head()"
   ]
  }
 ],
 "metadata": {
  "kernelspec": {
   "display_name": "Python 3",
   "language": "python",
   "name": "python3"
  },
  "language_info": {
   "codemirror_mode": {
    "name": "ipython",
    "version": 3
   },
   "file_extension": ".py",
   "mimetype": "text/x-python",
   "name": "python",
   "nbconvert_exporter": "python",
   "pygments_lexer": "ipython3",
   "version": "3.10.11"
  }
 },
 "nbformat": 4,
 "nbformat_minor": 2
}
